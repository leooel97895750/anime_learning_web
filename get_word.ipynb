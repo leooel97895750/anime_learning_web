{
 "cells": [
  {
   "cell_type": "code",
   "execution_count": 7,
   "id": "3b5cc93d",
   "metadata": {},
   "outputs": [
    {
     "name": "stdout",
     "output_type": "stream",
     "text": [
      "66\n",
      "TRY！日本語 N1 達陣【單字表】  \n",
      " \n",
      "1 \n",
      " TRY! 日本語  N1達陣 \n",
      "從日檢文法展開全方位學習  \n",
      "【單字表】  \n",
      " \n",
      "本單字表 從課本每一課的課文、例句、 「やっ\n",
      "てみよう !」中，選錄屬於 N1級別的單字，從\n",
      "第1章順排到第 10章，但不包含 「Check!」\n",
      "「まとめの 問題（綜合測驗）」中的單字 。建\n",
      "議搭配課本使用才能達到最好的效果。  \n",
      " \n",
      " \n",
      "作者：ABK（公益財団法人  アジア学生文化協会）  \n",
      "出版：眾文圖書股份有限公司  \n",
      " \n",
      "1 祭典さいてん\n",
      " 慶典 \n",
      " ～周年しゅうねん\n",
      " ～週年 \n",
      " 開幕かいまく\n",
      " 開幕 \n",
      " ミュンヘン  慕尼黑  \n",
      " 樽たる\n",
      " 木桶，桶  \n",
      " ヘクタール  公頃 \n",
      " 東京とうきょう\n",
      "ドーム 東京巨蛋  \n",
      " 敷地しきち\n",
      " 占地，用地 \n",
      " 繰く\n",
      "り広ひろ\n",
      "げる 展開，開展  \n",
      " 本場ほんば\n",
      " 原產地；本地的，正宗的  \n",
      " 各国かっこく\n",
      " 各國 \n",
      " 訪おとず\n",
      "れる 造訪，拜訪，訪問  \n",
      " 節目ふしめ\n",
      " 節，竹節；階段  \n",
      " 再現さいげん\n",
      "（する） 再現 \n",
      "\n"
     ]
    }
   ],
   "source": [
    "from pypdf import PdfReader \n",
    "  \n",
    "# creating a pdf reader object \n",
    "reader = PdfReader('n1_word.pdf') \n",
    "print(len(reader.pages)) \n",
    "  \n",
    "# getting a specific page from the pdf file \n",
    "page = reader.pages[0] \n",
    "  \n",
    "# extracting text from page \n",
    "text = page.extract_text() \n",
    "print(text) \n"
   ]
  }
 ],
 "metadata": {
  "kernelspec": {
   "display_name": "Python 3 (ipykernel)",
   "language": "python",
   "name": "python3"
  },
  "language_info": {
   "codemirror_mode": {
    "name": "ipython",
    "version": 3
   },
   "file_extension": ".py",
   "mimetype": "text/x-python",
   "name": "python",
   "nbconvert_exporter": "python",
   "pygments_lexer": "ipython3",
   "version": "3.9.13"
  }
 },
 "nbformat": 4,
 "nbformat_minor": 5
}
